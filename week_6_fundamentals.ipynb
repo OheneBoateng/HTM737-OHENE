{
  "nbformat": 4,
  "nbformat_minor": 0,
  "metadata": {
    "colab": {
      "provenance": [],
      "name": "week 6 fundamentals.ipynb",
      "authorship_tag": "ABX9TyOCZVGLXb0t9K49tjLEPDXB",
      "include_colab_link": true
    },
    "kernelspec": {
      "name": "python3",
      "display_name": "Python 3"
    },
    "language_info": {
      "name": "python"
    }
  },
  "cells": [
    {
      "cell_type": "markdown",
      "metadata": {
        "id": "view-in-github",
        "colab_type": "text"
      },
      "source": [
        "<a href=\"https://colab.research.google.com/github/OheneBoateng/HTM737-OHENE/blob/main/week_6_fundamentals.ipynb\" target=\"_parent\"><img src=\"https://colab.research.google.com/assets/colab-badge.svg\" alt=\"Open In Colab\"/></a>"
      ]
    },
    {
      "cell_type": "code",
      "execution_count": 11,
      "metadata": {
        "id": "2kCKF4GWKLok"
      },
      "outputs": [],
      "source": [
        "mname = 'John'#defining a variable,quotations means its a string/text"
      ]
    },
    {
      "cell_type": "code",
      "source": [
        "print(mname)#prints name on screen"
      ],
      "metadata": {
        "colab": {
          "base_uri": "https://localhost:8080/"
        },
        "id": "y61Om2-RKkkE",
        "outputId": "d429fbcb-5989-4027-dc10-d1791a0eedde"
      },
      "execution_count": 12,
      "outputs": [
        {
          "output_type": "stream",
          "name": "stdout",
          "text": [
            "John\n"
          ]
        }
      ]
    },
    {
      "cell_type": "code",
      "source": [
        "print(mname[0:2])#select first 2 characters, colon stands for until which excludes value after colon"
      ],
      "metadata": {
        "colab": {
          "base_uri": "https://localhost:8080/"
        },
        "id": "dJ6nKZKXK3Wb",
        "outputId": "ca0b54b1-012a-407a-e385-9d1b00ce7e0a"
      },
      "execution_count": 13,
      "outputs": [
        {
          "output_type": "stream",
          "name": "stdout",
          "text": [
            "Jo\n"
          ]
        }
      ]
    },
    {
      "cell_type": "code",
      "source": [
        "MCPHS_zip_code='02115-2345'"
      ],
      "metadata": {
        "id": "V58TfeO1LDdh"
      },
      "execution_count": 14,
      "outputs": []
    },
    {
      "cell_type": "code",
      "source": [
        "print(MCPHS_zip_code[0:5])#selects first 5 of zip code"
      ],
      "metadata": {
        "colab": {
          "base_uri": "https://localhost:8080/"
        },
        "id": "ExdifTM-MJqQ",
        "outputId": "4624e457-b7fe-4e46-eb5e-ae0ddcadd4e6"
      },
      "execution_count": 15,
      "outputs": [
        {
          "output_type": "stream",
          "name": "stdout",
          "text": [
            "02115\n"
          ]
        }
      ]
    },
    {
      "cell_type": "code",
      "source": [
        "print(MCPHS_zip_code[-1])"
      ],
      "metadata": {
        "colab": {
          "base_uri": "https://localhost:8080/"
        },
        "id": "8fvsx9RiMjVg",
        "outputId": "4e0a09ff-eb82-42fd-ba03-9cc4e41d76d4"
      },
      "execution_count": 16,
      "outputs": [
        {
          "output_type": "stream",
          "name": "stdout",
          "text": [
            "5\n"
          ]
        }
      ]
    },
    {
      "cell_type": "code",
      "source": [
        "john_age=65"
      ],
      "metadata": {
        "id": "rPxrI0jBNN6D"
      },
      "execution_count": 17,
      "outputs": []
    },
    {
      "cell_type": "code",
      "source": [
        "print(john_age)"
      ],
      "metadata": {
        "colab": {
          "base_uri": "https://localhost:8080/"
        },
        "id": "ZLdbRX6_NWxA",
        "outputId": "81e81a9b-6410-44e2-dd5c-0b1756417fdd"
      },
      "execution_count": 18,
      "outputs": [
        {
          "output_type": "stream",
          "name": "stdout",
          "text": [
            "65\n"
          ]
        }
      ]
    },
    {
      "cell_type": "code",
      "source": [
        "print(john_age-5)#can use python for mathematical operations"
      ],
      "metadata": {
        "colab": {
          "base_uri": "https://localhost:8080/"
        },
        "id": "UA9yntvvNavb",
        "outputId": "91d1d117-67d0-47bc-cf62-218f88c4a442"
      },
      "execution_count": 19,
      "outputs": [
        {
          "output_type": "stream",
          "name": "stdout",
          "text": [
            "60\n"
          ]
        }
      ]
    },
    {
      "cell_type": "code",
      "source": [
        "2*2"
      ],
      "metadata": {
        "colab": {
          "base_uri": "https://localhost:8080/"
        },
        "id": "CWhj_02SNnfU",
        "outputId": "962cea9c-1415-4e88-f199-9ef7271d985d"
      },
      "execution_count": 20,
      "outputs": [
        {
          "output_type": "execute_result",
          "data": {
            "text/plain": [
              "4"
            ]
          },
          "metadata": {},
          "execution_count": 20
        }
      ]
    },
    {
      "cell_type": "code",
      "source": [
        "john_weight=150.7 #this is float due to decimals"
      ],
      "metadata": {
        "id": "bqjMvuRFNva3"
      },
      "execution_count": 21,
      "outputs": []
    },
    {
      "cell_type": "code",
      "source": [
        "print(int(john_weight))#converts to integer by curring decimal"
      ],
      "metadata": {
        "colab": {
          "base_uri": "https://localhost:8080/"
        },
        "id": "FBeb-IiIOKQL",
        "outputId": "185daf6e-ee02-463e-cca8-3e7470b37061"
      },
      "execution_count": 22,
      "outputs": [
        {
          "output_type": "stream",
          "name": "stdout",
          "text": [
            "150\n"
          ]
        }
      ]
    },
    {
      "cell_type": "code",
      "source": [
        "john_weight_int=150"
      ],
      "metadata": {
        "id": "Oni2802MObae"
      },
      "execution_count": 23,
      "outputs": []
    },
    {
      "cell_type": "code",
      "source": [
        "print(float(john_weight_int))"
      ],
      "metadata": {
        "colab": {
          "base_uri": "https://localhost:8080/"
        },
        "id": "8M9pp5bPOsBn",
        "outputId": "fb812862-081b-4cf4-8f17-3d2bb365281a"
      },
      "execution_count": 24,
      "outputs": [
        {
          "output_type": "stream",
          "name": "stdout",
          "text": [
            "150.0\n"
          ]
        }
      ]
    },
    {
      "cell_type": "code",
      "source": [
        "john_weight_strin=str#converts weight to string"
      ],
      "metadata": {
        "id": "KN_vS11tO1lP"
      },
      "execution_count": 25,
      "outputs": []
    },
    {
      "cell_type": "code",
      "source": [
        "print(john_weight_int/2)"
      ],
      "metadata": {
        "colab": {
          "base_uri": "https://localhost:8080/"
        },
        "id": "UHCgf001PCKO",
        "outputId": "bebcfea8-f12b-4e59-b6af-bbcd426db37b"
      },
      "execution_count": 26,
      "outputs": [
        {
          "output_type": "stream",
          "name": "stdout",
          "text": [
            "75.0\n"
          ]
        }
      ]
    },
    {
      "cell_type": "code",
      "source": [
        "print(john_weight_strin)/2 #error cause we cannot operate on string/text"
      ],
      "metadata": {
        "colab": {
          "base_uri": "https://localhost:8080/",
          "height": 159
        },
        "id": "vIR1mH8vPHDW",
        "outputId": "3cc8f256-b5e3-4752-ec41-167d01eff64b"
      },
      "execution_count": 27,
      "outputs": [
        {
          "output_type": "stream",
          "name": "stdout",
          "text": [
            "<class 'str'>\n"
          ]
        },
        {
          "output_type": "error",
          "ename": "TypeError",
          "evalue": "unsupported operand type(s) for /: 'NoneType' and 'int'",
          "traceback": [
            "\u001b[0;31m---------------------------------------------------------------------------\u001b[0m",
            "\u001b[0;31mTypeError\u001b[0m                                 Traceback (most recent call last)",
            "\u001b[0;32m/tmp/ipython-input-3632799260.py\u001b[0m in \u001b[0;36m<cell line: 0>\u001b[0;34m()\u001b[0m\n\u001b[0;32m----> 1\u001b[0;31m \u001b[0mprint\u001b[0m\u001b[0;34m(\u001b[0m\u001b[0mjohn_weight_strin\u001b[0m\u001b[0;34m)\u001b[0m\u001b[0;34m/\u001b[0m\u001b[0;36m2\u001b[0m \u001b[0;31m#error cause we cannot operate on string/text\u001b[0m\u001b[0;34m\u001b[0m\u001b[0;34m\u001b[0m\u001b[0m\n\u001b[0m",
            "\u001b[0;31mTypeError\u001b[0m: unsupported operand type(s) for /: 'NoneType' and 'int'"
          ]
        }
      ]
    },
    {
      "cell_type": "code",
      "source": [
        "first_list=['a','1']"
      ],
      "metadata": {
        "id": "BpqzhXXsPjC8"
      },
      "execution_count": 28,
      "outputs": []
    },
    {
      "cell_type": "code",
      "source": [
        "print(first_list[0])"
      ],
      "metadata": {
        "colab": {
          "base_uri": "https://localhost:8080/"
        },
        "id": "7OZpmA3XP1mp",
        "outputId": "f6a47396-e193-4d2d-b141-2843134b5054"
      },
      "execution_count": 29,
      "outputs": [
        {
          "output_type": "stream",
          "name": "stdout",
          "text": [
            "a\n"
          ]
        }
      ]
    },
    {
      "cell_type": "code",
      "source": [
        "print(first_list)"
      ],
      "metadata": {
        "colab": {
          "base_uri": "https://localhost:8080/"
        },
        "id": "AoKbX_EhQTJ-",
        "outputId": "72827131-b94b-4702-a1c4-4099c171e1cc"
      },
      "execution_count": 30,
      "outputs": [
        {
          "output_type": "stream",
          "name": "stdout",
          "text": [
            "['a', '1']\n"
          ]
        }
      ]
    },
    {
      "cell_type": "code",
      "source": [
        "first_tuple=('a',1)"
      ],
      "metadata": {
        "id": "OLkZY2mfQeuJ"
      },
      "execution_count": 31,
      "outputs": []
    },
    {
      "cell_type": "code",
      "source": [
        "first_tuple[0]"
      ],
      "metadata": {
        "colab": {
          "base_uri": "https://localhost:8080/",
          "height": 35
        },
        "id": "EwGmHj39REBb",
        "outputId": "8f60feed-f7d9-4540-a057-cd12a9ed94e1"
      },
      "execution_count": 32,
      "outputs": [
        {
          "output_type": "execute_result",
          "data": {
            "text/plain": [
              "'a'"
            ],
            "application/vnd.google.colaboratory.intrinsic+json": {
              "type": "string"
            }
          },
          "metadata": {},
          "execution_count": 32
        }
      ]
    },
    {
      "cell_type": "code",
      "source": [
        "first_tuple[a]='ab'#cannot change due to tupple"
      ],
      "metadata": {
        "colab": {
          "base_uri": "https://localhost:8080/",
          "height": 141
        },
        "id": "GhfklT4ARSjO",
        "outputId": "09e4c36e-4051-4396-c148-348839a1cfba"
      },
      "execution_count": 33,
      "outputs": [
        {
          "output_type": "error",
          "ename": "NameError",
          "evalue": "name 'a' is not defined",
          "traceback": [
            "\u001b[0;31m---------------------------------------------------------------------------\u001b[0m",
            "\u001b[0;31mNameError\u001b[0m                                 Traceback (most recent call last)",
            "\u001b[0;32m/tmp/ipython-input-257583592.py\u001b[0m in \u001b[0;36m<cell line: 0>\u001b[0;34m()\u001b[0m\n\u001b[0;32m----> 1\u001b[0;31m \u001b[0mfirst_tuple\u001b[0m\u001b[0;34m[\u001b[0m\u001b[0ma\u001b[0m\u001b[0;34m]\u001b[0m\u001b[0;34m=\u001b[0m\u001b[0;34m'ab'\u001b[0m\u001b[0;31m#cannot change due to tupple\u001b[0m\u001b[0;34m\u001b[0m\u001b[0;34m\u001b[0m\u001b[0m\n\u001b[0m",
            "\u001b[0;31mNameError\u001b[0m: name 'a' is not defined"
          ]
        }
      ]
    },
    {
      "cell_type": "code",
      "source": [
        "first_dict ={'john_age':65,'heather_age':45}"
      ],
      "metadata": {
        "id": "bvB1isSYkJau"
      },
      "execution_count": 34,
      "outputs": []
    },
    {
      "cell_type": "code",
      "source": [
        "print(first_dict['john_age'])"
      ],
      "metadata": {
        "colab": {
          "base_uri": "https://localhost:8080/"
        },
        "id": "_aZQUqF5klrS",
        "outputId": "db738097-d903-4149-cdb9-ad1d069e8283"
      },
      "execution_count": 35,
      "outputs": [
        {
          "output_type": "stream",
          "name": "stdout",
          "text": [
            "65\n"
          ]
        }
      ]
    },
    {
      "cell_type": "code",
      "source": [
        "first_set= set(first_list)"
      ],
      "metadata": {
        "id": "B8OgySqYmUkN"
      },
      "execution_count": 36,
      "outputs": []
    },
    {
      "cell_type": "code",
      "metadata": {
        "colab": {
          "base_uri": "https://localhost:8080/"
        },
        "id": "a16250e8",
        "outputId": "7de164ea-282d-4f3e-af17-55f022cb6d99"
      },
      "source": [
        "list1 = [1, 2, 3]\n",
        "list2 = [3, 4, 5]\n",
        "\n",
        "# To find the union of two lists, we can convert them to sets and then use the union operator.\n",
        "union_list = list(set(list1).union(set(list2)))\n",
        "\n",
        "print(\"List 1:\", list1)\n",
        "print(\"List 2:\", list2)\n",
        "print(\"Union of the lists:\", union_list)"
      ],
      "execution_count": 3,
      "outputs": [
        {
          "output_type": "stream",
          "name": "stdout",
          "text": [
            "List 1: [1, 2, 3]\n",
            "List 2: [3, 4, 5]\n",
            "Union of the lists: [1, 2, 3, 4, 5]\n"
          ]
        }
      ]
    },
    {
      "cell_type": "code",
      "source": [
        "first_set= set(first_list)"
      ],
      "metadata": {
        "id": "RvyYB1Tol7PY"
      },
      "execution_count": 37,
      "outputs": []
    },
    {
      "cell_type": "code",
      "metadata": {
        "colab": {
          "base_uri": "https://localhost:8080/"
        },
        "id": "d99cbb92",
        "outputId": "762adc9a-4bc7-443a-9964-4847a73bad81"
      },
      "source": [
        "set1 = {1, 2, 3}\n",
        "set2 = {3, 4, 5}\n",
        "\n",
        "# To find the union of two sets, you can use the union() method or the | operator.\n",
        "union_set = set1.union(set2)\n",
        "# Alternatively, using the | operator: union_set = set1 | set2\n",
        "\n",
        "print(\"Set 1:\", set1)\n",
        "print(\"Set 2:\", set2)\n",
        "print(\"Union of the sets:\", union_set)"
      ],
      "execution_count": 38,
      "outputs": [
        {
          "output_type": "stream",
          "name": "stdout",
          "text": [
            "Set 1: {1, 2, 3}\n",
            "Set 2: {3, 4, 5}\n",
            "Union of the sets: {1, 2, 3, 4, 5}\n"
          ]
        }
      ]
    },
    {
      "cell_type": "code",
      "source": [
        "def f_to_c(temp_f):\n",
        "  temp_c = (temp_f-32) *5/9\n",
        "  return temp_c"
      ],
      "metadata": {
        "id": "NSPgnS16n2wS"
      },
      "execution_count": 39,
      "outputs": []
    },
    {
      "cell_type": "code",
      "source": [
        "f_to_c(45)"
      ],
      "metadata": {
        "id": "ZR2oIed3oZyY",
        "outputId": "7c6c2baf-5e33-4e12-97b6-7117ab863f29",
        "colab": {
          "base_uri": "https://localhost:8080/"
        }
      },
      "execution_count": 41,
      "outputs": [
        {
          "output_type": "execute_result",
          "data": {
            "text/plain": [
              "7.222222222222222"
            ]
          },
          "metadata": {},
          "execution_count": 41
        }
      ]
    },
    {
      "cell_type": "code",
      "source": [
        "def my_secret_function(h,w):\n",
        "  bmi=w/h**2\n",
        "  return bmi"
      ],
      "metadata": {
        "id": "ZZE2EtBMofco"
      },
      "execution_count": 42,
      "outputs": []
    },
    {
      "cell_type": "code",
      "source": [
        "4**2"
      ],
      "metadata": {
        "id": "AA2b_I9FpCN8",
        "outputId": "a0e0914a-9c03-44ef-ccf5-b5cd6abffde7",
        "colab": {
          "base_uri": "https://localhost:8080/"
        }
      },
      "execution_count": 43,
      "outputs": [
        {
          "output_type": "execute_result",
          "data": {
            "text/plain": [
              "16"
            ]
          },
          "metadata": {},
          "execution_count": 43
        }
      ]
    },
    {
      "cell_type": "code",
      "source": [
        "my_secret_function(1.7, 65)"
      ],
      "metadata": {
        "id": "aBMi3ggXpG_q",
        "outputId": "31e6cab4-7371-4bb3-9b88-1a124d8ab6ff",
        "colab": {
          "base_uri": "https://localhost:8080/"
        }
      },
      "execution_count": 44,
      "outputs": [
        {
          "output_type": "execute_result",
          "data": {
            "text/plain": [
              "22.49134948096886"
            ]
          },
          "metadata": {},
          "execution_count": 44
        }
      ]
    },
    {
      "cell_type": "code",
      "source": [
        "def calculate_bmi_category(weight_kg, height_m):\n",
        "    bmi = weight_kg / (height_m ** 2)\n",
        "\n",
        "    if bmi < 18.5:\n",
        "        return f\"BMI: {bmi:.1f} - Underweight\"\n",
        "    elif bmi < 25:\n",
        "        return f\"BMI: {bmi:.1f} - Normal weight\"\n",
        "    elif bmi < 30:\n",
        "        return f\"BMI: {bmi:.1f} - Overweight\"\n",
        "    else:\n",
        "        return f\"BMI: {bmi:.1f} - Obese\""
      ],
      "metadata": {
        "id": "m9ucqiIGpd9f"
      },
      "execution_count": 45,
      "outputs": []
    },
    {
      "cell_type": "code",
      "source": [
        "calculate_bmi_category(height_m=1.71,weight_kg=80)"
      ],
      "metadata": {
        "id": "vsDPT1LYpfJT",
        "outputId": "54e0ce03-9512-4a43-da44-aead0c99e0b4",
        "colab": {
          "base_uri": "https://localhost:8080/",
          "height": 35
        }
      },
      "execution_count": 46,
      "outputs": [
        {
          "output_type": "execute_result",
          "data": {
            "text/plain": [
              "'BMI: 27.4 - Overweight'"
            ],
            "application/vnd.google.colaboratory.intrinsic+json": {
              "type": "string"
            }
          },
          "metadata": {},
          "execution_count": 46
        }
      ]
    },
    {
      "cell_type": "code",
      "source": [
        "import pandas as pd\n"
      ],
      "metadata": {
        "id": "1pJT8mt1p1qa"
      },
      "execution_count": 47,
      "outputs": []
    }
  ]
}